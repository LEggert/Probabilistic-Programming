{
 "cells": [
  {
   "cell_type": "markdown",
   "metadata": {},
   "source": [
    "System setup"
   ]
  },
  {
   "cell_type": "code",
   "execution_count": 1,
   "metadata": {
    "collapsed": true
   },
   "outputs": [],
   "source": [
    "%matplotlib inline\n",
    "\n",
    "import random\n",
    "import itertools\n",
    "import matplotlib.pyplot as plt\n",
    "import pymc3             as pm\n",
    "import numpy             as np\n",
    "\n",
    "from scipy     import stats\n",
    "from functools import partial\n",
    "from IPython.core.pylabtools import figsize"
   ]
  },
  {
   "cell_type": "markdown",
   "metadata": {},
   "source": [
    "Hilfsfunktionen"
   ]
  },
  {
   "cell_type": "code",
   "execution_count": 2,
   "metadata": {
    "collapsed": true
   },
   "outputs": [],
   "source": [
    "# Vergleicht zwei Werte.\n",
    "def compare_conversion(sim, obs):\n",
    "    return sim == obs\n",
    "\n",
    "# Erzeugt die Anzahl von Käufern, gegeben eine Konversionsrate und die Anzahl der Besucher.\n",
    "def simulate_conversion(n, p):\n",
    "    outcomes = (random.random() < p for _ in range(n))\n",
    "    return sum(outcomes)\n",
    "\n",
    "# Gebe die ersten n Werte eines Iterators/Generators zurück.\n",
    "def take(n, iterable):\n",
    "    return list(itertools.islice(iterable, n))"
   ]
  },
  {
   "cell_type": "markdown",
   "metadata": {},
   "source": [
    "# Probabilistic Programming for Data Mining"
   ]
  },
  {
   "cell_type": "markdown",
   "metadata": {},
   "source": [
    "(am Beispiel A/B Testing)"
   ]
  },
  {
   "cell_type": "markdown",
   "metadata": {},
   "source": [
    "## Einführung"
   ]
  },
  {
   "cell_type": "markdown",
   "metadata": {},
   "source": [
    "### Induktive Statistik vs. Bayes'sche Statistik"
   ]
  },
  {
   "cell_type": "markdown",
   "metadata": {},
   "source": [
    "* Mit Hilfe von A/B Tests wird z. B. im Bereich Webentwicklung versucht Aussagen darüber zu treffen, welches Layout einer Internetseite \"besser\" ist in Bezug auf eine bestimmte Zielvariable.\n",
    "* Im Falle von A/B Tests werden in der Induktiven, bzw. Inferenzstatistik Hypothesentests durchgeführt, mit deren Hilfe versucht wird abzuschätzen, ob sich z. B. Mittelwerte signifikant unterscheiden.\n",
    "* Die Bayes'sche Statistik hingegen versucht in diesem Falle Aussagen darüber zu treffen, mit welcher Wahrscheinlichkeit ein Layout besser als das andere ist ohne dabei Hypothesen zu verwenden.\n",
    "* Der Bayes'sche Ansatz lässt daher Rückschlüsse in Hinblick darauf zu, wie unsicher man sich bei seinen Schlussfolgerungen ist. Dies ist u. U. ein relevanter Aspekt, weil unsere Schlussfolgerungen immer mit Unsicherheit behaftet sind, da wir in der Regel mit unvollständigen Daten arbeiten müssen.\n",
    "* Es geht um den Unterschied zwischen Wahrscheinlichkeit als Lanzeit-Häufigkeit (Frequentistisch) und Wahrscheinlichkeit als Vertrauen/Konfidenz (Bayes)."
   ]
  },
  {
   "cell_type": "markdown",
   "metadata": {},
   "source": [
    "### Grundidee des Bayes'schen Ansatzes"
   ]
  },
  {
   "cell_type": "markdown",
   "metadata": {},
   "source": [
    "vgl. \n",
    "http://nbviewer.jupyter.org/github/CamDavidsonPilon/Probabilistic-Programming-and-Bayesian-Methods-for-Hackers/blob/master/Chapter1_Introduction/Ch1_Introduction_PyMC3.ipynb"
   ]
  },
  {
   "cell_type": "markdown",
   "metadata": {},
   "source": [
    "* Generell wird von einer anfänglichen Wahrscheinlichkeit ausgegangen, die durch Erkenntnisse und Informationen über die Umstände eines Experiments angepasst wird.\n",
    "\n",
    "* Prior P(A): Ausgangsüberzeugung über den Eintritt eines Ereignisses.\n",
    "\n",
    "* Posterior (A|E): Angepasste Überzeugung über den Eintritt eines Ereignisses, nachdem man bestimmte Beobachtungen gemacht hat.\n",
    "\n",
    "* Das Bayes'sche Theorem bestimmt, wie eine Überzeugung aufgrund neuer Informationen angepasst wird: P(A|E) ∝ P(E|A)P(A), d. h. die a-posteriori Überzeugung verhält sich proportional zum Produkt aus a-priori Überzeugung und dem sogenannten Likelihood. Die Likelihood gibt an, wie wahrscheinlich es ist, die beoachteten Daten zu erhalten, falls eine bestimmte Überzeugung wahr ist."
   ]
  },
  {
   "cell_type": "markdown",
   "metadata": {},
   "source": [
    "## Beispiel A/B Test im eCommerce"
   ]
  },
  {
   "cell_type": "markdown",
   "metadata": {},
   "source": [
    "* Ausgangspunkt: Layout A hat 100 Besucher und 4 Käufer. Nach der Maximum Likelihood Methode würde sich daraus eine Konversionsrate von 4% ergeben. Wir haben keine weiteren Informationen über die Konversionsrate dieses Layouts.\n",
    "\n",
    "* Wir wissen, dass Layout B eine Konversionsrate zwischen 4% und 8% hat. Zuletzt haben wir bei 40 Besuchern 5 Käufer gemessen.\n",
    "\n",
    "* Das Problem dieses frequentistischen Ansatzes ist, dass in \"4%\" weder die Information über die Anzahl der Daten enthalten ist, noch wie 'sicher' diese Angabe ist."
   ]
  },
  {
   "cell_type": "markdown",
   "metadata": {},
   "source": [
    "### 'from scratch'-Ansatz"
   ]
  },
  {
   "cell_type": "markdown",
   "metadata": {},
   "source": [
    "vgl.\n",
    "https://www.safaribooksonline.com/oriole/probabilistic-programming-from-scratch-1-a-b-testing-with-approximate-bayesian-computation\n"
   ]
  },
  {
   "cell_type": "markdown",
   "metadata": {
    "collapsed": true
   },
   "source": [
    "Prinzipielle Idee:\n",
    "1. Erzeuge einen 'Versuchswert' für die vorherzusagende Größe.\n",
    "2. Simuliere die Daten, gegeben diesen Versuchswert.\n",
    "3. Wiederhole 1 und 2 solange, bis eine ausreichend große Zahl an Versuchswerten vorhanden ist, die 'funktionieren'."
   ]
  },
  {
   "cell_type": "markdown",
   "metadata": {},
   "source": [
    "Um einen Versuchswert zu erzeugen, definieren wir Funktionen, die von entsprechenden, a-priori Verteilungen sampeln können."
   ]
  },
  {
   "cell_type": "code",
   "execution_count": 3,
   "metadata": {
    "collapsed": true
   },
   "outputs": [],
   "source": [
    "# Gleichverteilung; vgl. Layout A.\n",
    "def prior_sampler_uniform():\n",
    "    while True:\n",
    "        yield random.random()\n",
    "        \n",
    "# Normalverteilung; vgl. Layout B.\n",
    "def prior_sampler_normal(mu, sigma):\n",
    "    while True:\n",
    "        x = random.normalvariate(mu, sigma)\n",
    "        if 0 <= x <= 1:\n",
    "            yield x"
   ]
  },
  {
   "cell_type": "markdown",
   "metadata": {},
   "source": [
    "Erzeuge ein Sample aus der a-posteriori Verteilung, indem das angenommene Datengenerationsschema (i. e. die a-priori Verteilung) mit den vorhandenen Daten kombiniert (hier: verglichen) wird."
   ]
  },
  {
   "cell_type": "code",
   "execution_count": 4,
   "metadata": {
    "collapsed": true
   },
   "outputs": [],
   "source": [
    "# abc = \"Approximate Bayesian Computation\"-Algorithmus.\n",
    "def abc(data, prior_sampler, simulate, compare):\n",
    "    for p in prior_sampler:\n",
    "        if compare(simulate(p), data):\n",
    "            yield p"
   ]
  },
  {
   "cell_type": "markdown",
   "metadata": {},
   "source": [
    "Sample von der a-posteriori Verteilungen der beiden Tests."
   ]
  },
  {
   "cell_type": "code",
   "execution_count": 5,
   "metadata": {
    "collapsed": true
   },
   "outputs": [],
   "source": [
    "posterior_sampler_A = abc(\n",
    "    data=4,  # 4 Käufer\n",
    "    prior_sampler=prior_sampler_uniform(),\n",
    "    simulate=partial(simulate_conversion, 100), # Anzahl der Besucher\n",
    "    compare=compare_conversion)"
   ]
  },
  {
   "cell_type": "code",
   "execution_count": 6,
   "metadata": {
    "collapsed": true
   },
   "outputs": [],
   "source": [
    "posterior_sampler_B = abc(\n",
    "    data=5,\n",
    "    prior_sampler=prior_sampler_normal(0.06, 0.02),\n",
    "    simulate=partial(simulate_conversion, 40),\n",
    "    compare=compare_conversion)"
   ]
  },
  {
   "cell_type": "code",
   "execution_count": 7,
   "metadata": {
    "collapsed": true
   },
   "outputs": [],
   "source": [
    "nsamples = 50000\n",
    "samples_A = take(nsamples, posterior_sampler_A)\n",
    "samples_B = take(nsamples, posterior_sampler_B)"
   ]
  },
  {
   "cell_type": "markdown",
   "metadata": {
    "collapsed": true
   },
   "source": [
    "Visualisiere die a-priori Verteilungen."
   ]
  },
  {
   "cell_type": "code",
   "execution_count": 8,
   "metadata": {},
   "outputs": [
    {
     "data": {
      "image/png": "[encoded data removed]",
      "text/plain": [
       "<matplotlib.figure.Figure at 0x1107e1eb8>"
      ]
     },
     "metadata": {},
     "output_type": "display_data"
    }
   ],
   "source": [
    "abbins = [i/200.0 for i in range(50)]  # 50 bins between 0 and 0.25\n",
    "trial_as = take(100000, prior_sampler_uniform())\n",
    "trial_bs = take(100000, prior_sampler_normal(0.06, 0.02))\n",
    "\n",
    "plt.hist(trial_as, bins=abbins, label='A', normed=True)\n",
    "plt.hist(trial_bs, bins=abbins, label='B', alpha=0.5, normed=True)\n",
    "plt.title('Beliefs about conversion fraction prior to A/B test')\n",
    "plt.legend();"
   ]
  },
  {
   "cell_type": "markdown",
   "metadata": {
    "collapsed": true
   },
   "source": [
    "Visualisiere die a-posteriori Verteilungen."
   ]
  },
  {
   "cell_type": "code",
   "execution_count": 9,
   "metadata": {},
   "outputs": [
    {
     "data": {
      "image/png": "[encoded data removed]",
      "text/plain": [
       "<matplotlib.figure.Figure at 0x1107ef630>"
      ]
     },
     "metadata": {},
     "output_type": "display_data"
    }
   ],
   "source": [
    "plt.hist(samples_A, bins=abbins, label='A', normed=True)\n",
    "plt.hist(samples_B, bins=abbins, label='B', alpha=0.5, normed=True)\n",
    "plt.title('Estimates of conversion fraction after the A/B test')\n",
    "plt.legend();"
   ]
  },
  {
   "cell_type": "markdown",
   "metadata": {},
   "source": [
    "Evaluiere das Ergbnis des A/B Tests."
   ]
  },
  {
   "cell_type": "code",
   "execution_count": 10,
   "metadata": {},
   "outputs": [
    {
     "name": "stdout",
     "output_type": "stream",
     "text": [
      "0.82578\n"
     ]
    }
   ],
   "source": [
    "b_better = [b > a for a, b in zip(samples_A, samples_B)]\n",
    "print(sum(b_better)/len(samples_A))"
   ]
  },
  {
   "cell_type": "markdown",
   "metadata": {},
   "source": [
    "Dies liest sich nun folgendermaßen: Mit einer Wahrscheinlichkeit von 82% ist Layout B besser als Layout A. Diese Information erweitert die initiale Aussage das Layout B (5%) besser ist als Layout A (4%)."
   ]
  }
 ],
 "metadata": {
  "kernelspec": {
   "display_name": "Python 3",
   "language": "python",
   "name": "python3"
  },
  "language_info": {
   "codemirror_mode": {
    "name": "ipython",
    "version": 3
   },
   "file_extension": ".py",
   "mimetype": "text/x-python",
   "name": "python",
   "nbconvert_exporter": "python",
   "pygments_lexer": "ipython3",
   "version": "3.6.2"
  }
 },
 "nbformat": 4,
 "nbformat_minor": 2
}
