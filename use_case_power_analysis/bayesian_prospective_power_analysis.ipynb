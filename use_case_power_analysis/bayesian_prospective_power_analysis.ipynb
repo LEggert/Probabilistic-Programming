{
 "cells": [
  {
   "cell_type": "markdown",
   "metadata": {
    "heading_collapsed": true
   },
   "source": [
    "# System setup"
   ]
  },
  {
   "cell_type": "code",
   "execution_count": 1,
   "metadata": {
    "collapsed": true,
    "hidden": true
   },
   "outputs": [],
   "source": [
    "%matplotlib inline\n",
    "\n",
    "import pymc3 as pm\n",
    "import numpy as np\n",
    "import pandas as pd\n",
    "import scipy.stats as stats\n",
    "import sys\n",
    "import time\n",
    "\n",
    "import matplotlib.pyplot as plt\n",
    "plt.style.use('ggplot')"
   ]
  },
  {
   "cell_type": "markdown",
   "metadata": {
    "heading_collapsed": true
   },
   "source": [
    "# Helper functions"
   ]
  },
  {
   "cell_type": "code",
   "execution_count": 2,
   "metadata": {
    "collapsed": true,
    "hidden": true
   },
   "outputs": [],
   "source": [
    "def progress_bar(value, endvalue, bar_length=20):\n",
    "        percent = float(value) / endvalue\n",
    "        arrow = '-' * int(round(percent * bar_length)-1) + '>'\n",
    "        spaces = ' ' * (bar_length - len(arrow))\n",
    "        sys.stdout.write(\"\\rProgress: [{0}] {1}%\".format(arrow + spaces, int(round(percent * 100))))\n",
    "        sys.stdout.flush()"
   ]
  },
  {
   "cell_type": "markdown",
   "metadata": {
    "heading_collapsed": true
   },
   "source": [
    "# Bayesian prospective power analysis"
   ]
  },
  {
   "cell_type": "code",
   "execution_count": 7,
   "metadata": {
    "collapsed": true,
    "hidden": true
   },
   "outputs": [],
   "source": [
    "def power_analysis_bayes (n, target_power, increment, reps):\n",
    "    estimated_power = 0.0\n",
    "    result = []\n",
    "\n",
    "    while estimated_power < target_power:\n",
    "        print(\"N: \" + str(n))\n",
    "\n",
    "        # Select a value for the “true” bias in the coin, from the data-generating distribution and\n",
    "        # subsequently simulate flipping a coin with that bias n times, i. e. simulate outcome variable.\n",
    "        simulated_data = [np.random.binomial(1, bias, n) for bias in [np.random.beta(a=1300, b=700) for x in range(0, reps)]]\n",
    "\n",
    "        for i in range(reps): # repeat with a feasible large number to get a good approximation of the power\n",
    "            progress_bar(i, reps)\n",
    "\n",
    "            # Using an audience-agreeable prior for purposes of data analysis, \n",
    "            # determine the posterior beliefs regarding θ if z heads \n",
    "            # in N flips were observed.\n",
    "            with pm.Model() as model:        \n",
    "                # Assume the audience-agreeable prior is uniform.\n",
    "                p = pm.Uniform(\"p\", 0, 1)\n",
    "\n",
    "                # Likelihood of observations, i. e. sampling distribution of the response data.\n",
    "                Y_obs = pm.Binomial(\"Y_obs\", n=1, p=p, observed=simulated_data[i])\n",
    "\n",
    "                # Model fitting, i. e. determine posterior distribution of model paramters.\n",
    "                step = pm.Metropolis()\n",
    "                trace = pm.sample(2000, step=step, progressbar=True)\n",
    "\n",
    "                # Posterior analysis: Tally whether the 95% HDI excludes the null value of θ = .50, i. e.\n",
    "                # smaller or equal than the lower boarder of the 95% HDI, i. e. \n",
    "                # exclude the 'null' value 0.5\n",
    "                result.append(0.5 <=  pm.stats.hpd(trace)[\"p\"][0])\n",
    "\n",
    "        estimated_power = sum(result)/len(result)\n",
    "        print()\n",
    "        print(\"Estimated Power: \" + str(estimated_power))\n",
    "        print()\n",
    "        if estimated_power < target_power: \n",
    "            n = n + increment\n"
   ]
  },
  {
   "cell_type": "code",
   "execution_count": 8,
   "metadata": {
    "hidden": true
   },
   "outputs": [
    {
     "name": "stdout",
     "output_type": "stream",
     "text": [
      "N: 60\n",
      "Progress: [>                   ] 0%"
     ]
    },
    {
     "name": "stderr",
     "output_type": "stream",
     "text": [
      "100%|████████████████████████████████████████████████████████████████████████████| 2500/2500 [00:00<00:00, 2528.81it/s]\n"
     ]
    },
    {
     "name": "stdout",
     "output_type": "stream",
     "text": [
      "\r",
      "Progress: [--->                ] 20%"
     ]
    },
    {
     "name": "stderr",
     "output_type": "stream",
     "text": [
      "100%|████████████████████████████████████████████████████████████████████████████| 2500/2500 [00:00<00:00, 8480.95it/s]\n"
     ]
    },
    {
     "name": "stdout",
     "output_type": "stream",
     "text": [
      "\r",
      "Progress: [------->            ] 40%"
     ]
    },
    {
     "name": "stderr",
     "output_type": "stream",
     "text": [
      "100%|████████████████████████████████████████████████████████████████████████████| 2500/2500 [00:00<00:00, 6156.55it/s]\n"
     ]
    },
    {
     "name": "stdout",
     "output_type": "stream",
     "text": [
      "\r",
      "Progress: [----------->        ] 60%"
     ]
    },
    {
     "name": "stderr",
     "output_type": "stream",
     "text": [
      "100%|████████████████████████████████████████████████████████████████████████████| 2500/2500 [00:00<00:00, 8042.89it/s]\n"
     ]
    },
    {
     "name": "stdout",
     "output_type": "stream",
     "text": [
      "\r",
      "Progress: [--------------->    ] 80%"
     ]
    },
    {
     "name": "stderr",
     "output_type": "stream",
     "text": [
      "100%|████████████████████████████████████████████████████████████████████████████| 2500/2500 [00:00<00:00, 8539.07it/s]\n"
     ]
    },
    {
     "name": "stdout",
     "output_type": "stream",
     "text": [
      "\n",
      "Estimated Power: 0.6\n",
      "\n",
      "N: 65\n",
      "Progress: [>                   ] 0%"
     ]
    },
    {
     "name": "stderr",
     "output_type": "stream",
     "text": [
      "100%|████████████████████████████████████████████████████████████████████████████| 2500/2500 [00:00<00:00, 8627.70it/s]\n"
     ]
    },
    {
     "name": "stdout",
     "output_type": "stream",
     "text": [
      "\r",
      "Progress: [--->                ] 20%"
     ]
    },
    {
     "name": "stderr",
     "output_type": "stream",
     "text": [
      "100%|████████████████████████████████████████████████████████████████████████████| 2500/2500 [00:00<00:00, 8339.13it/s]\n"
     ]
    },
    {
     "name": "stdout",
     "output_type": "stream",
     "text": [
      "\r",
      "Progress: [------->            ] 40%"
     ]
    },
    {
     "name": "stderr",
     "output_type": "stream",
     "text": [
      "INFO (theano.gof.compilelock): Refreshing lock C:\\Users\\leggert\\AppData\\Local\\Theano\\compiledir_Windows-10-10.0.14393-SP0-Intel64_Family_6_Model_78_Stepping_3_GenuineIntel-3.6.1-64\\lock_dir\\lock\n",
      "100%|████████████████████████████████████████████████████████████████████████████| 2500/2500 [00:00<00:00, 5731.97it/s]\n"
     ]
    },
    {
     "name": "stdout",
     "output_type": "stream",
     "text": [
      "\r",
      "Progress: [----------->        ] 60%"
     ]
    },
    {
     "name": "stderr",
     "output_type": "stream",
     "text": [
      "100%|████████████████████████████████████████████████████████████████████████████| 2500/2500 [00:00<00:00, 7248.27it/s]\n"
     ]
    },
    {
     "name": "stdout",
     "output_type": "stream",
     "text": [
      "\r",
      "Progress: [--------------->    ] 80%"
     ]
    },
    {
     "name": "stderr",
     "output_type": "stream",
     "text": [
      "100%|████████████████████████████████████████████████████████████████████████████| 2500/2500 [00:00<00:00, 6344.54it/s]\n"
     ]
    },
    {
     "name": "stdout",
     "output_type": "stream",
     "text": [
      "\n",
      "Estimated Power: 0.7\n",
      "\n",
      "--- 39.99861693382263 seconds ---\n"
     ]
    }
   ],
   "source": [
    "start_time = time.time()\n",
    "power_analysis_bayes(n=60, increment=5, target_power=0.70, reps=5)\n",
    "print(\"--- %s seconds ---\" % (time.time() - start_time))"
   ]
  }
 ],
 "metadata": {
  "kernelspec": {
   "display_name": "Python 3",
   "language": "python",
   "name": "python3"
  },
  "language_info": {
   "codemirror_mode": {
    "name": "ipython",
    "version": 3
   },
   "file_extension": ".py",
   "mimetype": "text/x-python",
   "name": "python",
   "nbconvert_exporter": "python",
   "pygments_lexer": "ipython3",
   "version": "3.6.1"
  }
 },
 "nbformat": 4,
 "nbformat_minor": 2
}
